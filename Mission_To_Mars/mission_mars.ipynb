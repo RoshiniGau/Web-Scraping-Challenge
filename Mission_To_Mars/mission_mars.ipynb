{
 "cells": [
  {
   "cell_type": "markdown",
   "metadata": {},
   "source": [
    "# Step-1 Scraping"
   ]
  },
  {
   "cell_type": "code",
   "execution_count": 2,
   "metadata": {},
   "outputs": [],
   "source": [
    "# Dependencies\n",
    "import pandas as pd\n",
    "import requests as req\n",
    "import time\n",
    "from bs4 import BeautifulSoup as bs\n",
    "from splinter import Browser\n",
    "from selenium import webdriver"
   ]
  },
  {
   "cell_type": "markdown",
   "metadata": {},
   "source": [
    "# Windows Users"
   ]
  },
  {
   "cell_type": "code",
   "execution_count": 23,
   "metadata": {},
   "outputs": [],
   "source": [
    "executable_path = {'executable_path': 'chromedriver.exe'}\n",
    "browser = Browser('chrome', **executable_path, headless=False)"
   ]
  },
  {
   "cell_type": "code",
   "execution_count": 6,
   "metadata": {},
   "outputs": [],
   "source": [
    "# Visit nasa website\n",
    "url = \"https://mars.nasa.gov/news/\"\n",
    "browser.visit(url)\n"
   ]
  },
  {
   "cell_type": "code",
   "execution_count": 7,
   "metadata": {},
   "outputs": [],
   "source": [
    "#Scrape page into soup\n",
    "html = browser.html\n",
    "soup = bs(html, \"html.parser\")"
   ]
  },
  {
   "cell_type": "markdown",
   "metadata": {},
   "source": [
    "# Nasa Mars News"
   ]
  },
  {
   "cell_type": "code",
   "execution_count": 21,
   "metadata": {},
   "outputs": [
    {
     "name": "stdout",
     "output_type": "stream",
     "text": [
      "News Title : NASA InSight's 'Mole' Is Out of Sight\n",
      "News Paragraph: Now that the heat probe is just below the Martian surface, InSight's arm will scoop some additional soil on top to help it keep digging so it can take Mars' temperature.\n"
     ]
    }
   ],
   "source": [
    "#Collect News Title and Paragraph text\n",
    "title = soup.find(\"div\",class_=\"list_text\")\n",
    "news_title = title.find(\"div\", class_=\"content_title\").text\n",
    "\n",
    "\n",
    "news_p = soup.find(\"div\",class_=\"article_teaser_body\").text\n",
    "\n",
    "\n",
    "print(\"News Title : \" +news_title)\n",
    "print(\"News Paragraph: \" +news_p)"
   ]
  },
  {
   "cell_type": "markdown",
   "metadata": {},
   "source": [
    "# JPL Mars Space Images - Featured Image"
   ]
  },
  {
   "cell_type": "code",
   "execution_count": 40,
   "metadata": {},
   "outputs": [],
   "source": [
    "# Visit url for JPL Featured Space Image\n",
    "url = \"https://www.jpl.nasa.gov/spaceimages/?search=&category=Mars\"\n",
    "browser.visit(url)"
   ]
  },
  {
   "cell_type": "code",
   "execution_count": 41,
   "metadata": {},
   "outputs": [],
   "source": [
    "# Parse HTML with Beautiful Soup\n",
    "html = browser.html\n",
    "image_soup = bs(html, 'html.parser')\n"
   ]
  },
  {
   "cell_type": "code",
   "execution_count": 42,
   "metadata": {},
   "outputs": [
    {
     "name": "stdout",
     "output_type": "stream",
     "text": [
      "https://www.jpl.nasa.gov//spaceimages/images/largesize/PIA24152_hires.jpg\n"
     ]
    }
   ],
   "source": [
    "# Scrape the URL\n",
    "image_url = image_soup.find('li', class_='slide')\n",
    "tag = image_url.find(\"a\")\n",
    "path = tag['data-fancybox-href']\n",
    "featured_image_url = f\"https://www.jpl.nasa.gov/{path}\"\n",
    "print(featured_image_url)"
   ]
  },
  {
   "cell_type": "markdown",
   "metadata": {},
   "source": [
    "# Mars Facts"
   ]
  },
  {
   "cell_type": "code",
   "execution_count": 46,
   "metadata": {},
   "outputs": [
    {
     "data": {
      "text/plain": [
       "[                      0                              1\n",
       " 0  Equatorial Diameter:                       6,792 km\n",
       " 1       Polar Diameter:                       6,752 km\n",
       " 2                 Mass:  6.39 × 10^23 kg (0.11 Earths)\n",
       " 3                Moons:            2 (Phobos & Deimos)\n",
       " 4       Orbit Distance:       227,943,824 km (1.38 AU)\n",
       " 5         Orbit Period:           687 days (1.9 years)\n",
       " 6  Surface Temperature:                   -87 to -5 °C\n",
       " 7         First Record:              2nd millennium BC\n",
       " 8          Recorded By:           Egyptian astronomers,\n",
       "   Mars - Earth Comparison             Mars            Earth\n",
       " 0               Diameter:         6,779 km        12,742 km\n",
       " 1                   Mass:  6.39 × 10^23 kg  5.97 × 10^24 kg\n",
       " 2                  Moons:                2                1\n",
       " 3      Distance from Sun:   227,943,824 km   149,598,262 km\n",
       " 4         Length of Year:   687 Earth days      365.24 days\n",
       " 5            Temperature:     -87 to -5 °C      -88 to 58°C,\n",
       "                       0                              1\n",
       " 0  Equatorial Diameter:                       6,792 km\n",
       " 1       Polar Diameter:                       6,752 km\n",
       " 2                 Mass:  6.39 × 10^23 kg (0.11 Earths)\n",
       " 3                Moons:            2 (Phobos & Deimos)\n",
       " 4       Orbit Distance:       227,943,824 km (1.38 AU)\n",
       " 5         Orbit Period:           687 days (1.9 years)\n",
       " 6  Surface Temperature:                   -87 to -5 °C\n",
       " 7         First Record:              2nd millennium BC\n",
       " 8          Recorded By:           Egyptian astronomers]"
      ]
     },
     "execution_count": 46,
     "metadata": {},
     "output_type": "execute_result"
    }
   ],
   "source": [
    "# Visit url for JPL Featured Space Image\n",
    "fact_url = \"https://space-facts.com/mars/\"\n",
    "\n",
    "tables = pd.read_html(fact_url)\n",
    "tables"
   ]
  },
  {
   "cell_type": "code",
   "execution_count": 83,
   "metadata": {},
   "outputs": [
    {
     "data": {
      "text/plain": [
       "[    RK                      Name\n",
       " 0    1      Russell WestbrookOKC\n",
       " 1    2           LeBron JamesCLE\n",
       " 2    3            Kevin DurantGS\n",
       " 3    4           James HardenHOU\n",
       " 4    5           Stephen CurryGS\n",
       " 5    6            Paul GeorgeIND\n",
       " 6    7         Damian LillardPOR\n",
       " 7    8           Kawhi LeonardSA\n",
       " 8    9              John WallWSH\n",
       " 9   10           Kyrie IrvingCLE\n",
       " 10  11             Chris PaulLAC\n",
       " 11  12           Bradley BealWSH\n",
       " 12  13  Giannis AntetokounmpoMIL\n",
       " 13  14            Mike ConleyMEM\n",
       " 14  14        Dennis SchroderATL\n",
       " 15  16           Paul MillsapATL\n",
       " 16  17        Gordon HaywardUTAH\n",
       " 17  18          Isaiah ThomasBOS\n",
       " 18  19           Jimmy ButlerCHI\n",
       " 19  20          DeMar DeRozanTOR\n",
       " 20  21             Marc GasolMEM\n",
       " 21  22             Kevin LoveCLE\n",
       " 22  23          Avery BradleyBOS\n",
       " 23  24       LaMarcus AldridgeSA\n",
       " 24  25             Tony ParkerSA\n",
       " 25  26             Kyle LowryTOR\n",
       " 26  27           George HillUTAH\n",
       " 27  28         DeAndre JordanLAC\n",
       " 28  29             Al HorfordBOS\n",
       " 29  30           Klay ThompsonGS\n",
       " 30  31            Serge IbakaTOR\n",
       " 31  32            Jae CrowderBOS\n",
       " 32  33          Draymond GreenGS\n",
       " 33  34           Joe JohnsonUTAH\n",
       " 34  34            Eric GordonHOU\n",
       " 35  36           Lou WilliamsHOU\n",
       " 36  37        Otto Porter Jr.WSH\n",
       " 37  38        Markieff MorrisWSH\n",
       " 38  39          Norman PowellTOR\n",
       " 39  40           Rudy GobertUTAH\n",
       " 40  41      Jonas ValanciunasTOR\n",
       " 41  42       Patrick BeverleyHOU\n",
       " 42  43           Trevor ArizaHOU\n",
       " 43  44           Clint CapelaHOU\n",
       " 44  45        Jonathon SimmonsSA\n",
       " 45  46             Patty MillsSA\n",
       " 46  47          Ryan AndersonHOU\n",
       " 47  48           Kelly OlynykBOS\n",
       " 48  49       Bojan BogdanovicWSH\n",
       " 49  50           Marcus SmartBOS,\n",
       "    POS  GP   MIN   PTS   FGM   FGA   FG%  3PM   3PA   3P%  ...   FTA    FT%  \\\n",
       " 0   PG   5  38.8  37.4  11.8  30.4  38.8  2.6   9.8  26.5  ...  14.0   80.0   \n",
       " 1   SF  18  41.3  32.8  12.1  21.3  56.5  2.4   5.9  41.1  ...   9.0   69.8   \n",
       " 2   SF  15  35.5  28.5   9.9  17.9  55.6  2.5   5.7  44.2  ...   6.9   89.3   \n",
       " 3   SG  11  37.0  28.5   8.2  19.8  41.3  2.9  10.5  27.8  ...  10.5   87.8   \n",
       " 4   PG  17  35.4  28.1   8.9  18.4  48.4  4.2  10.1  41.9  ...   6.7   90.4   \n",
       " 5   SG   4  43.0  28.0   8.5  22.0  38.6  4.5  10.5  42.9  ...   7.5   86.7   \n",
       " 6   PG   4  37.8  27.8   9.8  22.5  43.3  2.3   8.0  28.1  ...   6.3   96.0   \n",
       " 7   SF  12  35.8  27.7   8.8  16.8  52.5  2.1   4.6  45.5  ...   8.5   93.1   \n",
       " 8   PG  13  39.0  27.2   9.8  21.6  45.2  1.6   4.7  34.4  ...   7.2   83.9   \n",
       " 9   PG  18  36.3  25.9   9.6  20.6  46.8  2.4   6.6  37.3  ...   4.7   90.5   \n",
       " 10  PG   7  37.1  25.3   9.6  19.3  49.6  2.0   5.4  36.8  ...   4.7   87.9   \n",
       " 11  SG  13  38.8  24.8   9.4  19.9  47.1  2.2   7.8  28.7  ...   4.7   82.0   \n",
       " 12  PF   6  40.5  24.8  10.0  18.7  53.6  0.7   1.7  40.0  ...   7.7   54.3   \n",
       " 13  PG   6  37.3  24.7   8.3  17.2  48.5  2.8   6.3  44.7  ...   6.2   83.8   \n",
       " 14  PG   6  35.2  24.7   8.3  18.3  45.5  2.8   6.7  42.5  ...   6.2   83.8   \n",
       " 15  PF   6  36.5  24.3   8.3  16.5  50.5  0.5   2.8  17.6  ...   8.8   81.1   \n",
       " 16  SF  11  37.4  24.1   7.5  17.1  44.1  2.5   6.2  41.2  ...   6.9   93.4   \n",
       " 17  PG  15  34.7  23.3   7.4  17.4  42.5  2.4   7.2  33.3  ...   7.4   82.0   \n",
       " 18  SF   6  39.8  22.7   7.7  18.0  42.6  1.0   3.8  26.1  ...   7.8   80.9   \n",
       " 19  SF  10  37.3  22.4   7.6  17.5  43.4  0.1   1.5   6.7  ...   8.0   88.8   \n",
       " 20   C   6  40.0  19.3   6.5  13.8  47.0  1.2   2.0  58.3  ...   5.5   93.9   \n",
       " 21  PF  18  32.1  16.8   5.3  12.1  43.6  2.8   6.2  45.0  ...   4.2   84.0   \n",
       " 22  PG  18  35.8  16.7   6.7  15.1  44.1  2.2   6.3  35.1  ...   1.5   77.8   \n",
       " 23  PF  16  33.6  16.5   6.9  15.0  45.8  0.1   0.9  14.3  ...   3.4   76.4   \n",
       " 24   G   8  26.4  15.9   6.4  12.1  52.6  1.4   2.4  57.9  ...   1.8  100.0   \n",
       " 25  PG   8  37.5  15.8   5.4  11.6  46.2  1.6   4.8  34.2  ...   4.1   81.8   \n",
       " 26  PG   8  35.1  15.6   5.8  12.3  46.9  1.5   3.9  38.7  ...   3.6   72.4   \n",
       " 27   C   7  37.7  15.4   6.1   8.7  70.5  0.0   0.1   0.0  ...   8.0   39.3   \n",
       " 28  PF  18  33.9  15.1   6.2  10.6  58.4  1.5   2.9  51.9  ...   1.6   75.9   \n",
       " 29  SG  17  35.1  15.0   5.5  13.9  39.7  2.4   6.2  38.7  ...   1.9   78.8   \n",
       " 30   C  10  30.7  14.3   6.0  13.0  46.2  1.2   3.8  31.6  ...   1.3   84.6   \n",
       " 31  SF  18  33.1  13.6   4.8  11.1  43.5  1.7   4.9  35.2  ...   2.7   83.3   \n",
       " 32  PF  17  34.9  13.1   4.2   9.5  44.7  1.9   4.6  41.0  ...   3.9   68.7   \n",
       " 33   G  11  29.6  12.9   5.3  12.1  43.6  1.4   4.1  33.3  ...   1.4   73.3   \n",
       " 34  SG  11  32.5  12.9   4.6  11.0  42.1  2.5   6.4  38.6  ...   1.6   72.2   \n",
       " 35  SG  11  24.7  12.5   4.5  10.7  42.4  1.1   3.5  30.8  ...   2.6   89.7   \n",
       " 36  SF  13  32.9  12.2   4.5   8.4  53.2  0.8   3.0  28.2  ...   2.7   88.6   \n",
       " 37  PF  13  28.7  12.1   4.5  11.2  40.7  1.1   2.9  36.8  ...   2.4   80.6   \n",
       " 38  SG   9  25.2  11.7   3.9   9.1  42.7  1.7   3.8  44.1  ...   2.7   83.3   \n",
       " 39   C   9  27.3  11.6   4.4   7.0  63.5  0.0   0.0   0.0  ...   5.6   48.0   \n",
       " 40   C  10  22.6  11.2   4.4   8.1  54.3  0.0   0.1   0.0  ...   3.3   72.7   \n",
       " 41  PG  11  29.5  11.1   4.1   9.9  41.3  1.9   4.7  40.4  ...   1.3   78.6   \n",
       " 42  SF  11  37.5  10.7   3.7   8.8  42.3  2.1   5.5  37.7  ...   1.3   92.9   \n",
       " 43   C  11  26.0  10.5   4.2   7.5  56.1  0.0   0.1   0.0  ...   3.5   61.5   \n",
       " 44   G  15  20.4  10.5   4.1   9.1  45.6  0.9   2.5  35.1  ...   2.1   67.7   \n",
       " 45  PG  16  26.0  10.3   3.6   8.8  40.7  2.0   5.6  36.0  ...   1.4   86.4   \n",
       " 46  PF  11  30.5   9.4   3.3   8.4  39.1  1.5   5.5  28.3  ...   1.5   87.5   \n",
       " 47  PF  18  19.2   9.2   3.6   6.9  51.2  0.8   2.6  31.9  ...   1.7   73.3   \n",
       " 48  SF  13  20.3   8.8   2.8   6.7  41.4  1.2   3.5  35.6  ...   2.5   84.4   \n",
       " 49  PG  18  29.9   8.6   2.6   7.4  35.1  1.6   4.1  39.7  ...   2.8   64.0   \n",
       " \n",
       "      REB   AST  STL  BLK   TO  DD2  TD3    PER  \n",
       " 0   11.6  10.8  2.4  0.4  6.0    5    3  27.76  \n",
       " 1    9.1   7.8  1.9  1.3  4.0   10    3  30.15  \n",
       " 2    7.9   4.3  0.8  1.3  2.5    6    0  27.51  \n",
       " 3    5.5   8.5  1.9  0.5  5.4    4    1  23.03  \n",
       " 4    6.2   6.7  2.0  0.2  3.4    5    1  27.13  \n",
       " 5    8.8   7.3  1.8  0.5  3.3    1    0  21.05  \n",
       " 6    4.5   3.3  1.3  0.5  3.3    0    0  18.47  \n",
       " 7    7.8   4.6  1.7  0.5  2.2    4    0  31.57  \n",
       " 8    3.7  10.3  1.7  1.2  4.2    7    0  23.00  \n",
       " 9    2.8   5.3  1.3  0.4  2.7    2    0  21.30  \n",
       " 10   5.0   9.9  1.7  0.1  2.7    4    0  27.88  \n",
       " 11   3.4   2.7  1.6  0.6  2.1    0    0  18.05  \n",
       " 12   9.5   4.0  2.2  1.7  3.3    1    0  21.96  \n",
       " 13   3.3   7.0  1.7  0.5  2.0    0    0  27.43  \n",
       " 14   2.3   7.7  1.0  0.0  1.7    2    0  22.61  \n",
       " 15   9.3   4.3  1.7  0.7  3.8    4    0  21.36  \n",
       " 16   6.1   3.4  0.9  0.3  2.2    1    0  20.76  \n",
       " 17   3.1   6.7  0.9  0.1  3.3    2    0  18.17  \n",
       " 18   7.3   4.3  1.7  0.8  2.5    0    0  19.40  \n",
       " 19   4.9   3.4  1.4  0.0  2.5    0    0  16.62  \n",
       " 20   6.5   4.2  0.3  0.7  2.5    1    0  17.14  \n",
       " 21  10.6   1.7  1.2  0.9  1.7    8    0  19.73  \n",
       " 22   3.9   2.3  1.3  0.2  1.7    0    0  12.02  \n",
       " 23   7.4   1.5  0.6  1.0  1.8    4    0  15.22  \n",
       " 24   2.5   3.1  0.5  0.0  1.5    0    0  19.56  \n",
       " 25   3.1   5.9  1.5  0.5  2.1    2    0  15.76  \n",
       " 26   4.1   3.6  0.3  0.1  1.6    0    0  13.48  \n",
       " 27  14.4   0.7  0.4  0.9  2.4    7    0  17.33  \n",
       " 28   6.6   5.4  0.8  0.8  1.8    3    0  20.16  \n",
       " 29   3.9   2.1  0.8  0.3  1.4    0    0   9.29  \n",
       " 30   6.5   1.4  0.4  1.7  1.1    1    0  14.48  \n",
       " 31   6.4   2.7  1.1  0.3  0.7    1    0  14.56  \n",
       " 32   9.1   6.5  1.8  1.6  2.1    5    1  17.94  \n",
       " 33   3.9   2.5  0.5  0.1  1.2    0    0  12.15  \n",
       " 34   3.9   2.0  0.7  0.5  1.3    0    0  11.48  \n",
       " 35   2.7   1.3  0.6  0.1  1.3    0    0  12.62  \n",
       " 36   6.9   1.8  1.6  0.5  0.8    2    0  16.56  \n",
       " 37   6.4   1.7  0.9  1.3  1.6    3    0  12.33  \n",
       " 38   3.1   1.6  1.1  0.3  1.7    0    0  13.05  \n",
       " 39   9.9   1.2  1.0  1.3  1.0    5    0  21.00  \n",
       " 40   6.7   0.2  0.2  0.6  1.3    1    0  15.59  \n",
       " 41   5.5   3.0  1.5  0.2  1.6    1    0  13.23  \n",
       " 42   5.1   2.1  1.3  0.2  0.8    0    0  10.54  \n",
       " 43   8.7   1.1  0.7  2.5  0.7    3    0  21.11  \n",
       " 44   1.9   1.9  0.6  0.1  0.7    0    0  15.05  \n",
       " 45   2.1   2.7  0.8  0.1  1.3    0    0  11.59  \n",
       " 46   5.2   0.6  0.4  0.2  0.8    0    0   8.51  \n",
       " 47   3.2   1.9  0.7  0.8  1.2    0    0  16.23  \n",
       " 48   4.3   0.7  0.5  0.1  0.6    1    0  13.62  \n",
       " 49   4.7   4.7  1.5  0.9  2.1    0    0  11.77  \n",
       " \n",
       " [50 rows x 21 columns]]"
      ]
     },
     "execution_count": 83,
     "metadata": {},
     "output_type": "execute_result"
    }
   ],
   "source": [
    "# Visit url for JPL Featured Space Image\n",
    "fact_url = \"https://www.espn.com/nba/stats/player/_/season/2017/table/offensive/sort/avgPoints/dir/desc\"\n",
    "\n",
    "tables = pd.read_html(fact_url)\n",
    "tables"
   ]
  },
  {
   "cell_type": "code",
   "execution_count": 53,
   "metadata": {},
   "outputs": [
    {
     "data": {
      "text/html": [
       "<div>\n",
       "<style scoped>\n",
       "    .dataframe tbody tr th:only-of-type {\n",
       "        vertical-align: middle;\n",
       "    }\n",
       "\n",
       "    .dataframe tbody tr th {\n",
       "        vertical-align: top;\n",
       "    }\n",
       "\n",
       "    .dataframe thead th {\n",
       "        text-align: right;\n",
       "    }\n",
       "</style>\n",
       "<table border=\"1\" class=\"dataframe\">\n",
       "  <thead>\n",
       "    <tr style=\"text-align: right;\">\n",
       "      <th></th>\n",
       "      <th>Facts</th>\n",
       "    </tr>\n",
       "    <tr>\n",
       "      <th>Name</th>\n",
       "      <th></th>\n",
       "    </tr>\n",
       "  </thead>\n",
       "  <tbody>\n",
       "    <tr>\n",
       "      <th>Equatorial Diameter:</th>\n",
       "      <td>6,792 km</td>\n",
       "    </tr>\n",
       "    <tr>\n",
       "      <th>Polar Diameter:</th>\n",
       "      <td>6,752 km</td>\n",
       "    </tr>\n",
       "    <tr>\n",
       "      <th>Mass:</th>\n",
       "      <td>6.39 × 10^23 kg (0.11 Earths)</td>\n",
       "    </tr>\n",
       "    <tr>\n",
       "      <th>Moons:</th>\n",
       "      <td>2 (Phobos &amp; Deimos)</td>\n",
       "    </tr>\n",
       "    <tr>\n",
       "      <th>Orbit Distance:</th>\n",
       "      <td>227,943,824 km (1.38 AU)</td>\n",
       "    </tr>\n",
       "  </tbody>\n",
       "</table>\n",
       "</div>"
      ],
      "text/plain": [
       "                                              Facts\n",
       "Name                                               \n",
       "Equatorial Diameter:                       6,792 km\n",
       "Polar Diameter:                            6,752 km\n",
       "Mass:                 6.39 × 10^23 kg (0.11 Earths)\n",
       "Moons:                          2 (Phobos & Deimos)\n",
       "Orbit Distance:            227,943,824 km (1.38 AU)"
      ]
     },
     "execution_count": 53,
     "metadata": {},
     "output_type": "execute_result"
    }
   ],
   "source": [
    "# Convert Data into dataframe \n",
    "data_df = tables[0]\n",
    "data_df.columns=['Name','Facts']\n",
    "data_df.set_index('Name',inplace=True)\n",
    "data_df.head()"
   ]
  },
  {
   "cell_type": "code",
   "execution_count": 59,
   "metadata": {},
   "outputs": [
    {
     "data": {
      "text/plain": [
       "'<table border=\"1\" class=\"dataframe\">\\n  <thead>\\n    <tr style=\"text-align: right;\">\\n      <th></th>\\n      <th>Facts</th>\\n    </tr>\\n    <tr>\\n      <th>Name</th>\\n      <th></th>\\n    </tr>\\n  </thead>\\n  <tbody>\\n    <tr>\\n      <th>Equatorial Diameter:</th>\\n      <td>6,792 km</td>\\n    </tr>\\n    <tr>\\n      <th>Polar Diameter:</th>\\n      <td>6,752 km</td>\\n    </tr>\\n    <tr>\\n      <th>Mass:</th>\\n      <td>6.39 × 10^23 kg (0.11 Earths)</td>\\n    </tr>\\n    <tr>\\n      <th>Moons:</th>\\n      <td>2 (Phobos &amp; Deimos)</td>\\n    </tr>\\n    <tr>\\n      <th>Orbit Distance:</th>\\n      <td>227,943,824 km (1.38 AU)</td>\\n    </tr>\\n    <tr>\\n      <th>Orbit Period:</th>\\n      <td>687 days (1.9 years)</td>\\n    </tr>\\n    <tr>\\n      <th>Surface Temperature:</th>\\n      <td>-87 to -5 °C</td>\\n    </tr>\\n    <tr>\\n      <th>First Record:</th>\\n      <td>2nd millennium BC</td>\\n    </tr>\\n    <tr>\\n      <th>Recorded By:</th>\\n      <td>Egyptian astronomers</td>\\n    </tr>\\n  </tbody>\\n</table>'"
      ]
     },
     "execution_count": 59,
     "metadata": {},
     "output_type": "execute_result"
    }
   ],
   "source": [
    "#Convert Dataframe into html table\n",
    "html_table = data_df.to_html()\n",
    "html_table"
   ]
  },
  {
   "cell_type": "code",
   "execution_count": 60,
   "metadata": {},
   "outputs": [
    {
     "data": {
      "text/plain": [
       "'<table border=\"1\" class=\"dataframe\">  <thead>    <tr style=\"text-align: right;\">      <th></th>      <th>Facts</th>    </tr>    <tr>      <th>Name</th>      <th></th>    </tr>  </thead>  <tbody>    <tr>      <th>Equatorial Diameter:</th>      <td>6,792 km</td>    </tr>    <tr>      <th>Polar Diameter:</th>      <td>6,752 km</td>    </tr>    <tr>      <th>Mass:</th>      <td>6.39 × 10^23 kg (0.11 Earths)</td>    </tr>    <tr>      <th>Moons:</th>      <td>2 (Phobos &amp; Deimos)</td>    </tr>    <tr>      <th>Orbit Distance:</th>      <td>227,943,824 km (1.38 AU)</td>    </tr>    <tr>      <th>Orbit Period:</th>      <td>687 days (1.9 years)</td>    </tr>    <tr>      <th>Surface Temperature:</th>      <td>-87 to -5 °C</td>    </tr>    <tr>      <th>First Record:</th>      <td>2nd millennium BC</td>    </tr>    <tr>      <th>Recorded By:</th>      <td>Egyptian astronomers</td>    </tr>  </tbody></table>'"
      ]
     },
     "execution_count": 60,
     "metadata": {},
     "output_type": "execute_result"
    }
   ],
   "source": [
    "#Clean new lines\n",
    "\n",
    "html_table.replace('\\n', '')"
   ]
  },
  {
   "cell_type": "code",
   "execution_count": 61,
   "metadata": {},
   "outputs": [],
   "source": [
    "# Save file\n",
    "data_df.to_html(\"Table.html\")"
   ]
  },
  {
   "cell_type": "markdown",
   "metadata": {},
   "source": [
    "# Mars Hemispheres"
   ]
  },
  {
   "cell_type": "code",
   "execution_count": 54,
   "metadata": {},
   "outputs": [],
   "source": [
    "# Visit url for JPL Featured Space Image\n",
    "url = \"https://astrogeology.usgs.gov/search/results?q=hemisphere+enhanced&k1=target&v1=Mars\"\n",
    "browser.visit(url)"
   ]
  },
  {
   "cell_type": "code",
   "execution_count": 68,
   "metadata": {},
   "outputs": [],
   "source": [
    "# Parse HTML with Beautiful Soup\n",
    "html = browser.html\n",
    "soup = bs(html, 'html.parser')\n"
   ]
  },
  {
   "cell_type": "code",
   "execution_count": 78,
   "metadata": {},
   "outputs": [],
   "source": [
    "# Create dictionary to store titles & links to images\n",
    "hemisphere_image_urls = []"
   ]
  },
  {
   "cell_type": "code",
   "execution_count": 79,
   "metadata": {},
   "outputs": [],
   "source": [
    "# Retrieve all elements that contain image information\n",
    "results = soup.find(\"div\", class_ = \"result-list\" )\n",
    "hemispheres = results.find_all(\"div\", class_=\"item\")"
   ]
  },
  {
   "cell_type": "code",
   "execution_count": 80,
   "metadata": {},
   "outputs": [
    {
     "name": "stdout",
     "output_type": "stream",
     "text": [
      "[{'title': 'Cerberus Hemisphere ', 'img_url': 'https://astropedia.astrogeology.usgs.gov/download/Mars/Viking/cerberus_enhanced.tif/full.jpg'}, {'title': 'Schiaparelli Hemisphere ', 'img_url': 'https://astropedia.astrogeology.usgs.gov/download/Mars/Viking/schiaparelli_enhanced.tif/full.jpg'}, {'title': 'Syrtis Major Hemisphere ', 'img_url': 'https://astropedia.astrogeology.usgs.gov/download/Mars/Viking/syrtis_major_enhanced.tif/full.jpg'}, {'title': 'Valles Marineris Hemisphere ', 'img_url': 'https://astropedia.astrogeology.usgs.gov/download/Mars/Viking/valles_marineris_enhanced.tif/full.jpg'}]\n"
     ]
    }
   ],
   "source": [
    "# Iterate through each image\n",
    "for hemisphere in hemispheres:\n",
    "    title = hemisphere.find(\"h3\").text\n",
    "    title = title.replace(\"Enhanced\", \"\")\n",
    "    end_link = hemisphere.find(\"a\")[\"href\"]\n",
    "    image_link = \"https://astrogeology.usgs.gov/\" + end_link    \n",
    "    browser.visit(image_link)\n",
    "    html = browser.html\n",
    "    soup = bs(html, \"html.parser\")\n",
    "    downloads = soup.find(\"div\", class_=\"downloads\")\n",
    "    image_url = downloads.find(\"a\")[\"href\"]\n",
    "    hemisphere_image_urls.append({\"title\": title, \"img_url\": image_url})\n",
    "\n",
    "# Print image title and url\n",
    "print(hemisphere_image_urls)"
   ]
  }
 ],
 "metadata": {
  "kernelspec": {
   "display_name": "Python 3",
   "language": "python",
   "name": "python3"
  },
  "language_info": {
   "codemirror_mode": {
    "name": "ipython",
    "version": 3
   },
   "file_extension": ".py",
   "mimetype": "text/x-python",
   "name": "python",
   "nbconvert_exporter": "python",
   "pygments_lexer": "ipython3",
   "version": "3.7.6"
  },
  "varInspector": {
   "cols": {
    "lenName": 16,
    "lenType": 16,
    "lenVar": 40
   },
   "kernels_config": {
    "python": {
     "delete_cmd_postfix": "",
     "delete_cmd_prefix": "del ",
     "library": "var_list.py",
     "varRefreshCmd": "print(var_dic_list())"
    },
    "r": {
     "delete_cmd_postfix": ") ",
     "delete_cmd_prefix": "rm(",
     "library": "var_list.r",
     "varRefreshCmd": "cat(var_dic_list()) "
    }
   },
   "types_to_exclude": [
    "module",
    "function",
    "builtin_function_or_method",
    "instance",
    "_Feature"
   ],
   "window_display": false
  }
 },
 "nbformat": 4,
 "nbformat_minor": 2
}
